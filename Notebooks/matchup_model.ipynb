{
 "cells": [
  {
   "cell_type": "code",
   "execution_count": 113,
   "metadata": {},
   "outputs": [],
   "source": [
    "import os\n",
    "import pandas as pd\n",
    "import matplotlib.pyplot as plt\n",
    "import numpy as np\n",
    "from typing import List\n",
    "import warnings\n",
    "\n",
    "# Disable the specific warning\n",
    "warnings.filterwarnings('ignore', category=pd.errors.SettingWithCopyWarning)\n",
    "warnings.filterwarnings('ignore', category=pd.errors.DtypeWarning)\n",
    "warnings.filterwarnings('ignore', category=FutureWarning)\n",
    "# Load Feature File\n",
    "DATA_ROOT = \"/Users/andrewgrowney/Data/kaggle/marchmadness-2024\"\n",
    "df = pd.read_csv(\"../TeamSeasons.csv\")\n",
    "reg_season_df = pd.read_csv(f\"{DATA_ROOT}/MRegularSeasonCompactResults.csv\")\n",
    "reg_season_df = reg_season_df[reg_season_df.Season >= 2003]\n",
    "tournament_results_df = pd.read_csv(f\"{DATA_ROOT}/MNCAATourneyCompactResults.csv\")\n",
    "tournament_results_df = tournament_results_df[tournament_results_df.Season >= 2003]"
   ]
  },
  {
   "cell_type": "markdown",
   "metadata": {},
   "source": [
    "# Win Probability: Difference of Stats\n",
    "Model type: Simple Binary Classification\n",
    "\n",
    "Input: [FGPct_diff, ..., feat_diff_n] (e.g. FGPct_diff = t1.FGPct_mean - t2.FGPct_mean)\n",
    "\n",
    "Output: 0 -> team 1 wins, 1 -> team 2 wins"
   ]
  },
  {
   "cell_type": "code",
   "execution_count": 60,
   "metadata": {},
   "outputs": [],
   "source": [
    "def get_diff(df:pd.DataFrame, t1_id:int, t2_id:int, season:int, features:List[str]):\n",
    "    t1 = df[(df['TeamID'] == t1_id) & (df['Season'] == season)][features].fillna(0)\n",
    "    t2 = df[(df['TeamID'] == t2_id) & (df['Season'] == season)][features].fillna(0)\n",
    "    diff = t1.values - t2.values\n",
    "    return diff[0]"
   ]
  },
  {
   "cell_type": "code",
   "execution_count": 61,
   "metadata": {},
   "outputs": [
    {
     "data": {
      "text/plain": [
       "array([2.76470588, 1.73529412, 4.41875   ])"
      ]
     },
     "execution_count": 61,
     "metadata": {},
     "output_type": "execute_result"
    }
   ],
   "source": [
    "ks_ark = get_diff(df, 1104, 1113, 2023, ['FGM_mean', 'FGA_mean', 'Poss_mean'])\n",
    "ks_ark"
   ]
  },
  {
   "cell_type": "code",
   "execution_count": 110,
   "metadata": {},
   "outputs": [],
   "source": [
    "FEATURES = [\n",
    "    'AdjOE_mean', 'EFG%_mean', 'FGA3_mean', 'TO_mean', 'OR_mean', 'FT%_mean', # Offense\n",
    "    'AdjDE_mean', 'OppEFG%_mean', 'OppFGA3_mean', 'OppTO_mean', 'OppOR_mean', # Defense\n",
    "    'AdjNE_mean', 'Poss_mean', 'SOS', 'Q1_WinPct', 'Q2_WinPct' # Other\n",
    "]"
   ]
  },
  {
   "cell_type": "code",
   "execution_count": 39,
   "metadata": {},
   "outputs": [],
   "source": [
    "from sklearn.model_selection import train_test_split\n",
    "from sklearn.preprocessing import StandardScaler"
   ]
  },
  {
   "cell_type": "code",
   "execution_count": 114,
   "metadata": {},
   "outputs": [
    {
     "ename": "IndexError",
     "evalue": "index 0 is out of bounds for axis 0 with size 0",
     "output_type": "error",
     "traceback": [
      "\u001b[0;31m---------------------------------------------------------------------------\u001b[0m",
      "\u001b[0;31mIndexError\u001b[0m                                Traceback (most recent call last)",
      "Cell \u001b[0;32mIn[114], line 7\u001b[0m\n\u001b[1;32m      5\u001b[0m \u001b[38;5;28;01mfor\u001b[39;00m i, row \u001b[38;5;129;01min\u001b[39;00m reg_season_df\u001b[38;5;241m.\u001b[39miterrows():\n\u001b[1;32m      6\u001b[0m     season, t1_id, t2_id \u001b[38;5;241m=\u001b[39m row\u001b[38;5;241m.\u001b[39mSeason, row\u001b[38;5;241m.\u001b[39mWTeamID, row\u001b[38;5;241m.\u001b[39mLTeamID\n\u001b[0;32m----> 7\u001b[0m     X\u001b[38;5;241m.\u001b[39mappend(\u001b[43mget_diff\u001b[49m\u001b[43m(\u001b[49m\u001b[43mdf\u001b[49m\u001b[43m,\u001b[49m\u001b[43m \u001b[49m\u001b[43mt1_id\u001b[49m\u001b[43m,\u001b[49m\u001b[43m \u001b[49m\u001b[43mt2_id\u001b[49m\u001b[43m,\u001b[49m\u001b[43m \u001b[49m\u001b[43mseason\u001b[49m\u001b[43m,\u001b[49m\u001b[43m \u001b[49m\u001b[43mFEATURES\u001b[49m\u001b[43m)\u001b[49m)\n\u001b[1;32m      8\u001b[0m     Y\u001b[38;5;241m.\u001b[39mappend(\u001b[38;5;241m1\u001b[39m)\n\u001b[1;32m      9\u001b[0m     W\u001b[38;5;241m.\u001b[39mappend(REG_SEASON_WEIGHT)\n",
      "Cell \u001b[0;32mIn[60], line 5\u001b[0m, in \u001b[0;36mget_diff\u001b[0;34m(df, t1_id, t2_id, season, features)\u001b[0m\n\u001b[1;32m      3\u001b[0m t2 \u001b[38;5;241m=\u001b[39m df[(df[\u001b[38;5;124m'\u001b[39m\u001b[38;5;124mTeamID\u001b[39m\u001b[38;5;124m'\u001b[39m] \u001b[38;5;241m==\u001b[39m t2_id) \u001b[38;5;241m&\u001b[39m (df[\u001b[38;5;124m'\u001b[39m\u001b[38;5;124mSeason\u001b[39m\u001b[38;5;124m'\u001b[39m] \u001b[38;5;241m==\u001b[39m season)][features]\u001b[38;5;241m.\u001b[39mfillna(\u001b[38;5;241m0\u001b[39m)\n\u001b[1;32m      4\u001b[0m diff \u001b[38;5;241m=\u001b[39m t1\u001b[38;5;241m.\u001b[39mvalues \u001b[38;5;241m-\u001b[39m t2\u001b[38;5;241m.\u001b[39mvalues\n\u001b[0;32m----> 5\u001b[0m \u001b[38;5;28;01mreturn\u001b[39;00m \u001b[43mdiff\u001b[49m\u001b[43m[\u001b[49m\u001b[38;5;241;43m0\u001b[39;49m\u001b[43m]\u001b[49m\n",
      "\u001b[0;31mIndexError\u001b[0m: index 0 is out of bounds for axis 0 with size 0"
     ]
    }
   ],
   "source": [
    "WIN_PROB_DATA = []\n",
    "REG_SEASON_WEIGHT = 0.5\n",
    "TOURN_WEIGHT = 1\n",
    "X, Y, W = [], [], []\n",
    "for i, row in reg_season_df.iterrows():\n",
    "    try:\n",
    "        season, t1_id, t2_id = row.Season, row.WTeamID, row.LTeamID\n",
    "        [X.append(get_diff(df, t1_id, t2_id, season, FEATURES)), Y.append(1), W.append(REG_SEASON_WEIGHT)]\n",
    "        [X.append(get_diff(df, t2_id, t1_id, season, FEATURES)), Y.append(0), W.append(REG_SEASON_WEIGHT)]\n",
    "    except IndexError:\n",
    "        print(f\"IndexError: {i} [{row}]\")\n",
    "for i, row in tournament_results_df.iterrows():\n",
    "    season, t1_id, t2_id = row.Season, row.WTeamID, row.LTeamID\n",
    "    [X.append(get_diff(df, t1_id, t2_id, season, FEATURES)), Y.append(1), W.append(TOURN_WEIGHT)]\n",
    "    [X.append(get_diff(df, t2_id, t1_id, season, FEATURES)), Y.append(0), W.append(TOURN_WEIGHT)]\n",
    "X = np.array(X)\n",
    "CLF_SCALER = StandardScaler()\n",
    "X = CLF_SCALER.fit_transform(X)\n",
    "Y = np.array(Y)\n",
    "W = np.array(W)"
   ]
  },
  {
   "cell_type": "code",
   "execution_count": 63,
   "metadata": {},
   "outputs": [
    {
     "data": {
      "text/plain": [
       "0.6759493670886076"
      ]
     },
     "execution_count": 63,
     "metadata": {},
     "output_type": "execute_result"
    }
   ],
   "source": [
    "from sklearn.ensemble import RandomForestClassifier\n",
    "from sklearn.metrics import accuracy_score\n",
    "\n",
    "X_train, X_test, Y_train, Y_test, W_train, W_test = train_test_split(X, Y, W, test_size=0.15, stratify=Y)\n",
    "clf = RandomForestClassifier(n_estimators=100, random_state=42)\n",
    "clf.fit(X_train, Y_train, sample_weight=W_train)\n",
    "Y_pred = clf.predict(X_test)\n",
    "\n",
    "accuracy_score(Y_test, Y_pred)"
   ]
  },
  {
   "cell_type": "markdown",
   "metadata": {},
   "source": [
    "# Margin of Victory Probability\n",
    "\n",
    "Model type: Regression\n",
    "\n",
    "Input: same as above\n",
    "\n",
    "Output: Float (Positive - team 1 wins by value, Negative - team 2 wins by that value)"
   ]
  },
  {
   "cell_type": "code",
   "execution_count": 98,
   "metadata": {},
   "outputs": [],
   "source": [
    "MOV_DATA = []\n",
    "for i, row in tournament_results_df.iterrows():\n",
    "    season, t1_id, t2_id = row.Season, row.WTeamID, row.LTeamID\n",
    "    score = row.WScore - row.LScore\n",
    "    MOV_DATA.append((get_diff(df, t1_id, t2_id, season, FEATURES), score))\n",
    "    MOV_DATA.append((get_diff(df, t2_id, t1_id, season, FEATURES), -1*score))\n",
    "MOV_X, MOV_Y = zip(*MOV_DATA)\n",
    "MOV_X = np.array(MOV_X)\n",
    "MOV_SCALER = StandardScaler()\n",
    "MOV_X = MOV_SCALER.fit_transform(MOV_X)\n",
    "MOV_Y = np.array(MOV_Y)"
   ]
  },
  {
   "cell_type": "code",
   "execution_count": 83,
   "metadata": {},
   "outputs": [
    {
     "data": {
      "text/plain": [
       "8.612803683765094"
      ]
     },
     "execution_count": 83,
     "metadata": {},
     "output_type": "execute_result"
    }
   ],
   "source": [
    "from sklearn.linear_model import LinearRegression\n",
    "from sklearn.metrics import mean_absolute_error\n",
    "\n",
    "MOV_X_train, MOV_X_test, MOV_Y_train, MOV_Y_test = train_test_split(MOV_X, MOV_Y, test_size=0.2)\n",
    "reg = LinearRegression()\n",
    "reg.fit(MOV_X_train, MOV_Y_train)\n",
    "MOV_Y_pred = reg.predict(MOV_X_test)\n",
    "\n",
    "mean_absolute_error(MOV_Y_test, MOV_Y_pred)"
   ]
  },
  {
   "cell_type": "markdown",
   "metadata": {},
   "source": [
    "# Ensemble Classification of the clf and reg Models"
   ]
  },
  {
   "cell_type": "code",
   "execution_count": 109,
   "metadata": {},
   "outputs": [
    {
     "data": {
      "text/plain": [
       "0.6278481012658228"
      ]
     },
     "execution_count": 109,
     "metadata": {},
     "output_type": "execute_result"
    }
   ],
   "source": [
    "# Ensemble Classifier using reg and clf from above\n",
    "base_models = [('clf', clf), ('reg', reg)]\n",
    "from sklearn.ensemble import StackingClassifier\n",
    "meta_model = RandomForestClassifier(n_estimators=100, random_state=42)\n",
    "ens_clf = StackingClassifier(estimators=base_models, final_estimator=meta_model, cv=5)\n",
    "\n",
    "ens_clf.fit(X_train, Y_train)\n",
    "Y_pred = ens_clf.predict(X_test)\n",
    "accuracy_score(Y_test, Y_pred)"
   ]
  }
 ],
 "metadata": {
  "kernelspec": {
   "display_name": "nlu",
   "language": "python",
   "name": "python3"
  },
  "language_info": {
   "codemirror_mode": {
    "name": "ipython",
    "version": 3
   },
   "file_extension": ".py",
   "mimetype": "text/x-python",
   "name": "python",
   "nbconvert_exporter": "python",
   "pygments_lexer": "ipython3",
   "version": "3.9.10"
  }
 },
 "nbformat": 4,
 "nbformat_minor": 2
}
