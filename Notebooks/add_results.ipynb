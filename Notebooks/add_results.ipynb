{
 "cells": [
  {
   "cell_type": "code",
   "execution_count": 10,
   "metadata": {},
   "outputs": [],
   "source": [
    "import json\n",
    "with open(\"../data/web/tourney_v3/2024.json\", \"r\") as f:\n",
    "    t = json.load(f)"
   ]
  },
  {
   "cell_type": "code",
   "execution_count": 11,
   "metadata": {},
   "outputs": [],
   "source": [
    "winner_pred = {\n",
    "    \"R1W1\": (1163, 1163),\n",
    "    \"R1W2\": (1235, 1235),\n",
    "    \"R1W3\": (1228, 1228),\n",
    "    \"R1W4\": (1463, 1120),\n",
    "    \"R1W5\": (1361, 1361),\n",
    "    \"R1W6\": (1182, 1182),\n",
    "    \"R1W7\": (1450, 1179),\n",
    "    \"R1W8\": (1321, 1194),\n",
    "    \"R2W1\": (None, 1163),\n",
    "    \"R2W2\": (None, 1235),\n",
    "    \"R2W3\": (None, 1228),\n",
    "    \"R2W4\": (None, 1361),\n",
    "    \"R3W1\": (None, 1163),\n",
    "    \"R3W2\": (None, 1235),\n",
    "    \"R4W1\": (None, 1163),\n",
    "    \"R1X1\": (1314, 1314),\n",
    "    \"R1X2\": (1112, 1112),\n",
    "    \"R1X3\": (1124, 1124),\n",
    "    \"R1X4\": (1104, 1104),\n",
    "    \"R1X5\": (1213, 1388),\n",
    "    \"R1X6\": (1155, 1155),\n",
    "    \"R1X7\": (1173, 1305),\n",
    "    \"R1X8\": (1277, 1277),\n",
    "    \"R2X1\": (1314, 1277),\n",
    "    \"R2X2\": (None, 1124),\n",
    "    \"R2X3\": (None, 1112),\n",
    "    \"R2X4\": (None, 1104),\n",
    "    \"R3X1\": (None, 1104),\n",
    "    \"R3X2\": (None, 1124),\n",
    "    \"R4X1\": (None, 1104),\n",
    "    \"R1Y1\": (1222, 1222),\n",
    "    \"R1Y2\": (1266, 1266),\n",
    "    \"R1Y3\": (1324, 1246),\n",
    "    \"R1Y4\": (1181, 1181),\n",
    "    \"R1Y5\": (1241, 1241),\n",
    "    \"R1Y6\": (1301, 1301),\n",
    "    \"R1Y7\": (1160, 1196),\n",
    "    \"R1Y8\": (1401, 1401),\n",
    "    \"R2Y1\": (None, 1222),\n",
    "    \"R2Y2\": (None, 1266),\n",
    "    \"R2Y3\": (None, 1246),\n",
    "    \"R2Y4\": (None, 1181),\n",
    "    \"R3Y1\": (None, 1222),\n",
    "    \"R3Y2\": (None, 1246),\n",
    "    \"R4Y1\": (None, 1222),\n",
    "    \"R1Z1\": (1345, 1345),\n",
    "    \"R1Z2\": (1397, 1397),\n",
    "    \"R1Z3\": (1166, 1166),\n",
    "    \"R1Z4\": (1242, 1242),\n",
    "    \"R1Z5\": (1211, 1211),\n",
    "    \"R1Z6\": (1332, 1332),\n",
    "    \"R1Z7\": (1400, 1400),\n",
    "    \"R1Z8\": (1429, 1429),\n",
    "    \"R2Z1\": (None, 1345),\n",
    "    \"R2Z2\": (None, 1397),\n",
    "    \"R2Z3\": (None, 1166),\n",
    "    \"R2Z4\": (None, 1211),\n",
    "    \"R3Z1\": (None, 1345),\n",
    "    \"R3Z2\": (None, 1397),\n",
    "    \"R4Z1\": (None, 1345),\n",
    "    \"R5WX\": (None, 1163),\n",
    "    \"R5XY\": (None, 1222),\n",
    "    \"R6CH\": (None, 1222)\n",
    "}"
   ]
  },
  {
   "cell_type": "code",
   "execution_count": 12,
   "metadata": {},
   "outputs": [],
   "source": [
    "# Set winner and prediction\n",
    "for sid in t[\"slots\"].keys():\n",
    "    if sid in winner_pred and winner_pred[sid] is not None:\n",
    "        t[\"slots\"][sid][\"winner\"] = winner_pred[sid][0]\n",
    "        t[\"slots\"][sid][\"predict\"] = winner_pred[sid][1]"
   ]
  },
  {
   "cell_type": "code",
   "execution_count": 14,
   "metadata": {},
   "outputs": [],
   "source": [
    "with open(\"../data/web/tourney_v2/2024.json\", \"w\") as f:\n",
    "    json.dump(t, f)"
   ]
  }
 ],
 "metadata": {
  "kernelspec": {
   "display_name": "nlu",
   "language": "python",
   "name": "python3"
  },
  "language_info": {
   "codemirror_mode": {
    "name": "ipython",
    "version": 3
   },
   "file_extension": ".py",
   "mimetype": "text/x-python",
   "name": "python",
   "nbconvert_exporter": "python",
   "pygments_lexer": "ipython3",
   "version": "3.9.10"
  }
 },
 "nbformat": 4,
 "nbformat_minor": 2
}
