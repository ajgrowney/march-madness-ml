{
 "cells": [
  {
   "cell_type": "markdown",
   "metadata": {},
   "source": [
    "# Basic Exploratory Data Analysis\n",
    "## Prerequisites\n",
    "- Install Python 3\n",
    "\n"
   ]
  },
  {
   "cell_type": "code",
   "execution_count": 3,
   "metadata": {},
   "outputs": [
    {
     "name": "stdout",
     "output_type": "stream",
     "text": [
      "['MNCAATourneyDetailedResults.csv', 'WNCAATourneySlots.csv', 'MNCAATourneyCompactResults.csv', 'MSeasons.csv', 'WTeams.csv', 'MRegularSeasonDetailedResults.csv', 'WNCAATourneyDetailedResults.csv', 'MNCAATourneySlots.csv', 'MGameCities.csv', 'MConferenceTourneyGames.csv', 'WNCAATourneyCompactResults.csv', 'WSeasons.csv', 'Cities.csv', 'WRegularSeasonCompactResults.csv', 'WTeamSpellings.csv', 'WRegularSeasonDetailedResults.csv', 'MRegularSeasonCompactResults.csv', 'WNCAATourneySeeds.csv', 'MNCAATourneySeedRoundSlots.csv', 'WTeamConferences.csv', 'MMasseyOrdinals_thru_Season2023_Day128.csv', 'MTeamConferences.csv', 'MTeamCoaches.csv', 'SampleSubmission2023.csv', 'Conferences.csv', 'MTeams.csv', 'WGameCities.csv', 'MNCAATourneySeeds.csv', 'MSecondaryTourneyTeams.csv', 'MTeamSpellings.csv', 'MSecondaryTourneyCompactResults.csv']\n"
     ]
    }
   ],
   "source": [
    "import os\n",
    "import pandas as pd\n",
    "\n",
    "# Load Data\n",
    "DATA_FOLDER = \"/Users/andrewgrowney/Data/kaggle/marchmadness-2023/Stage2\"\n",
    "print(os.listdir(DATA_FOLDER))"
   ]
  },
  {
   "cell_type": "markdown",
   "metadata": {},
   "source": [
    "## Basic Team Exploration"
   ]
  },
  {
   "cell_type": "code",
   "execution_count": 4,
   "metadata": {},
   "outputs": [
    {
     "name": "stdout",
     "output_type": "stream",
     "text": [
      "Index(['TeamID', 'TeamName', 'FirstD1Season', 'LastD1Season'], dtype='object')\n",
      "     TeamID TeamName  FirstD1Season  LastD1Season\n",
      "141    1242   Kansas           1985          2023\n",
      "1242\n",
      "Index(['Season', 'DayNum', 'WTeamID', 'WScore', 'LTeamID', 'LScore', 'WLoc',\n",
      "       'NumOT', 'WFGM', 'WFGA', 'WFGM3', 'WFGA3', 'WFTM', 'WFTA', 'WOR', 'WDR',\n",
      "       'WAst', 'WTO', 'WStl', 'WBlk', 'WPF', 'LFGM', 'LFGA', 'LFGM3', 'LFGA3',\n",
      "       'LFTM', 'LFTA', 'LOR', 'LDR', 'LAst', 'LTO', 'LStl', 'LBlk', 'LPF'],\n",
      "      dtype='object')\n",
      "       DayNum                                                             \\\n",
      "        count        mean       std    min     25%    50%     75%    max   \n",
      "Season                                                                     \n",
      "2003      6.0  144.666667  7.257180  136.0  139.25  144.0  150.25  154.0   \n",
      "2004      4.0  141.500000  4.203173  137.0  138.50  141.5  144.50  146.0   \n",
      "2005      1.0  137.000000       NaN  137.0  137.00  137.0  137.00  137.0   \n",
      "2006      1.0  137.000000       NaN  137.0  137.00  137.0  137.00  137.0   \n",
      "2007      4.0  141.000000  3.651484  137.0  138.50  141.0  143.50  145.0   \n",
      "2008      6.0  145.000000  7.238784  136.0  139.50  145.0  150.50  154.0   \n",
      "2009      3.0  140.000000  3.605551  137.0  138.00  139.0  141.50  144.0   \n",
      "2010      2.0  137.000000  1.414214  136.0  136.50  137.0  137.50  138.0   \n",
      "2011      4.0  141.500000  4.203173  137.0  138.50  141.5  144.50  146.0   \n",
      "2012      6.0  145.333333  6.801961  137.0  140.25  145.0  150.50  154.0   \n",
      "2013      3.0  140.000000  3.605551  137.0  138.00  139.0  141.50  144.0   \n",
      "2014      2.0  138.000000  1.414214  137.0  137.50  138.0  138.50  139.0   \n",
      "2015      2.0  138.000000  1.414214  137.0  137.50  138.0  138.50  139.0   \n",
      "2016      4.0  140.500000  4.203173  136.0  137.50  140.5  143.50  145.0   \n",
      "2017      4.0  141.000000  3.651484  137.0  138.50  141.0  143.50  145.0   \n",
      "2018      5.0  143.200000  6.418723  136.0  138.00  144.0  146.00  152.0   \n",
      "2019      2.0  137.000000  1.414214  136.0  136.50  137.0  137.50  138.0   \n",
      "2021      2.0  139.000000  1.414214  138.0  138.50  139.0  139.50  140.0   \n",
      "2022      6.0  145.000000  7.238784  136.0  139.50  145.0  150.50  154.0   \n",
      "\n",
      "       WTeamID               ...  LBlk        LPF                             \\\n",
      "         count         mean  ...   75%  max count       mean       std   min   \n",
      "Season                       ...                                               \n",
      "2003       6.0  1267.166667  ...  4.75  7.0   6.0  17.333333  2.065591  15.0   \n",
      "2004       4.0  1234.000000  ...  3.25  4.0   4.0  24.000000  4.082483  18.0   \n",
      "2005       1.0  1137.000000  ...  3.00  3.0   1.0  15.000000       NaN  15.0   \n",
      "2006       1.0  1133.000000  ...  1.00  1.0   1.0  25.000000       NaN  25.0   \n",
      "2007       4.0  1285.750000  ...  3.00  6.0   4.0  19.750000  2.217356  17.0   \n",
      "2008       6.0  1242.000000  ...  3.00  3.0   6.0  16.833333  2.136976  14.0   \n",
      "2009       3.0  1253.666667  ...  5.00  6.0   3.0  20.333333  3.055050  17.0   \n",
      "2010       2.0  1281.000000  ...  3.75  4.0   2.0  17.500000  2.121320  16.0   \n",
      "2011       4.0  1289.750000  ...  3.75  6.0   4.0  16.000000  4.320494  10.0   \n",
      "2012       6.0  1242.666667  ...  6.00  7.0   6.0  17.333333  1.861899  16.0   \n",
      "2013       3.0  1253.333333  ...  4.50  8.0   3.0  20.333333  3.511885  17.0   \n",
      "2014       2.0  1316.000000  ...  1.75  2.0   2.0  21.500000  0.707107  21.0   \n",
      "2015       2.0  1348.500000  ...  2.50  3.0   2.0  19.000000  5.656854  15.0   \n",
      "2016       4.0  1290.750000  ...  4.75  7.0   4.0  21.000000  2.309401  19.0   \n",
      "2017       4.0  1264.500000  ...  1.25  2.0   4.0  16.000000  2.943920  13.0   \n",
      "2018       5.0  1281.000000  ...  3.00  4.0   5.0  16.600000  4.774935  12.0   \n",
      "2019       2.0  1181.000000  ...  2.50  3.0   2.0  14.500000  3.535534  12.0   \n",
      "2021       2.0  1333.500000  ...  3.50  4.0   2.0  17.000000  0.000000  17.0   \n",
      "2022       6.0  1242.000000  ...  5.50  6.0   6.0  15.833333  3.970726  11.0   \n",
      "\n",
      "                                  \n",
      "          25%   50%    75%   max  \n",
      "Season                            \n",
      "2003    16.25  17.0  17.75  21.0  \n",
      "2004    23.25  25.5  26.25  27.0  \n",
      "2005    15.00  15.0  15.00  15.0  \n",
      "2006    25.00  25.0  25.00  25.0  \n",
      "2007    18.50  20.0  21.25  22.0  \n",
      "2008    15.50  17.0  17.75  20.0  \n",
      "2009    19.00  21.0  22.00  23.0  \n",
      "2010    16.75  17.5  18.25  19.0  \n",
      "2011    14.50  17.0  18.50  20.0  \n",
      "2012    16.25  17.0  17.00  21.0  \n",
      "2013    18.50  20.0  22.00  24.0  \n",
      "2014    21.25  21.5  21.75  22.0  \n",
      "2015    17.00  19.0  21.00  23.0  \n",
      "2016    19.00  21.0  23.00  23.0  \n",
      "2017    13.75  16.0  18.25  19.0  \n",
      "2018    13.00  16.0  18.00  24.0  \n",
      "2019    13.25  14.5  15.75  17.0  \n",
      "2021    17.00  17.0  17.00  17.0  \n",
      "2022    13.25  15.0  19.00  21.0  \n",
      "\n",
      "[19 rows x 256 columns]\n"
     ]
    }
   ],
   "source": [
    "team_info_file = os.path.join(DATA_FOLDER, \"MTeams.csv\")\n",
    "regular_season_results_path = os.path.join(DATA_FOLDER, \"MRegularSeasonDetailedResults.csv\")\n",
    "tournament_results_path = os.path.join(DATA_FOLDER, \"MNCAATourneyDetailedResults.csv\")\n",
    "\n",
    "team_info_dataframe = pd.read_csv(team_info_file)\n",
    "\n",
    "# Using our Team Info File to explore a team\n",
    "print(team_info_dataframe.columns)\n",
    "find_team_name = \"Kansas\"\n",
    "team = team_info_dataframe.loc[team_info_dataframe[\"TeamName\"] == find_team_name]\n",
    "print(team)\n",
    "\n",
    "team_id = int(team['TeamID'])\n",
    "\n",
    "# Looking at a team's regular season \n",
    "regular_season_results = pd.read_csv(regular_season_results_path)\n",
    "tournament_results = pd.read_csv(tournament_results_path)\n",
    "\n",
    "team_played_filter = (regular_season_results['WTeamID'] == team_id) | (regular_season_results['LTeamID'] == team_id)\n",
    "team_regular_season = regular_season_results.loc[team_played_filter]\n",
    "# print(team_regular_season.groupby([\"Season\"]).describe())\n",
    "team_tourney_filter = (tournament_results['WTeamID'] == team_id) | (tournament_results['LTeamID'] == team_id)\n",
    "team_tourney = tournament_results.loc[team_tourney_filter]\n",
    "print(team_tourney.groupby([\"Season\"]).describe())\n"
   ]
  }
 ],
 "metadata": {
  "interpreter": {
   "hash": "f1eb1f72acb35a2b66ea7bcc928bfca7adfcd47a0046ff8346ac7d30f7df6d86"
  },
  "kernelspec": {
   "display_name": "Python 3.9.2 64-bit ('3.9.2': pyenv)",
   "language": "python",
   "name": "python3"
  },
  "language_info": {
   "codemirror_mode": {
    "name": "ipython",
    "version": 3
   },
   "file_extension": ".py",
   "mimetype": "text/x-python",
   "name": "python",
   "nbconvert_exporter": "python",
   "pygments_lexer": "ipython3",
   "version": "3.9.10"
  },
  "orig_nbformat": 4
 },
 "nbformat": 4,
 "nbformat_minor": 2
}
