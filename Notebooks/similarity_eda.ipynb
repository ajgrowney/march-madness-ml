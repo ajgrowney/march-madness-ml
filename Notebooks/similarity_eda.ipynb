{
 "cells": [
  {
   "cell_type": "code",
   "execution_count": 30,
   "metadata": {},
   "outputs": [],
   "source": [
    "import os\n",
    "import pandas as pd\n",
    "import matplotlib.pyplot as plt\n",
    "from sklearn.metrics.pairwise import cosine_similarity\n",
    "from sklearn.preprocessing import MinMaxScaler\n",
    "\n",
    "# Load Feature File\n",
    "df = pd.read_csv(\"../TeamSeasons.csv\")"
   ]
  },
  {
   "cell_type": "code",
   "execution_count": 31,
   "metadata": {},
   "outputs": [
    {
     "name": "stderr",
     "output_type": "stream",
     "text": [
      "/var/folders/7y/1jp5fzbs05q03xszr7zmwvqw0000gn/T/ipykernel_27422/1894475089.py:5: SettingWithCopyWarning: \n",
      "A value is trying to be set on a copy of a slice from a DataFrame\n",
      "\n",
      "See the caveats in the documentation: https://pandas.pydata.org/pandas-docs/stable/user_guide/indexing.html#returning-a-view-versus-a-copy\n",
      "  resume_df.fillna(0, inplace=True)\n"
     ]
    }
   ],
   "source": [
    "resume_cols = [\"Q1_WinPct\", \"Q2_WinPct\", \"Q3_WinPct\", \"Q4_WinPct\", \"SOS\", \"SOV\", \"NET_last\"]\n",
    "stat_cols = [\"AdjOE_mean\", \"AdjDE_mean\", \"Poss_mean\", \"FGA3_mean\", \"FTA_mean\", \"FG%_mean\",\"FG3%_mean\",\"FT%_mean\",\"Ast_mean\",\"TO_mean\",\"OR_mean\", \"OppFGA3_mean\", \"OppFTA_mean\", \"OppFG%_mean\",\"OppFG3%_mean\",\"OppFT%_mean\",\"OppAst_mean\",\"OppTO_mean\",\"OppOR_mean\"]\n",
    "\n",
    "resume_df = df[resume_cols]\n",
    "resume_df.fillna(0, inplace=True)\n",
    "stat_df = df[stat_cols]"
   ]
  },
  {
   "cell_type": "code",
   "execution_count": 32,
   "metadata": {},
   "outputs": [],
   "source": [
    "resume_scaler = MinMaxScaler()\n",
    "resume_df = resume_scaler.fit_transform(resume_df)\n",
    "resume_similarity = cosine_similarity(resume_df)"
   ]
  },
  {
   "cell_type": "code",
   "execution_count": 33,
   "metadata": {},
   "outputs": [],
   "source": [
    "stat_scaler = MinMaxScaler()\n",
    "stat_df = stat_scaler.fit_transform(stat_df)\n",
    "stat_similarity = cosine_similarity(stat_df)"
   ]
  },
  {
   "cell_type": "code",
   "execution_count": 40,
   "metadata": {},
   "outputs": [],
   "source": [
    "avg_similarity = (resume_similarity + stat_similarity) / 2"
   ]
  },
  {
   "cell_type": "code",
   "execution_count": 44,
   "metadata": {},
   "outputs": [],
   "source": [
    "top_similar = {}\n",
    "for i in range(len(avg_similarity)):\n",
    "    avg_similarity[i][i] = 0\n",
    "\n",
    "    arr = avg_similarity[i]\n",
    "    # Get the indices of the most similar 3 values\n",
    "    top_3_indices = arr.argsort()[-3:][::-1]\n",
    "\n",
    "    # Print the top 3 values and their indices\n",
    "    top_similar[i] = top_3_indices"
   ]
  },
  {
   "cell_type": "code",
   "execution_count": 50,
   "metadata": {},
   "outputs": [
    {
     "name": "stdout",
     "output_type": "stream",
     "text": [
      "Similar Team: 1397(2022) with similarity: 0.9865856136440623\n",
      "Similar Team: 1116(2021) with similarity: 0.9860142343224693\n",
      "Similar Team: 1344(2022) with similarity: 0.9851633293703983\n"
     ]
    }
   ],
   "source": [
    "kansas = df[df[\"TeamID\"] == 1242]\n",
    "kansas_idx = kansas.index[0]\n",
    "kansas_similar = top_similar[kansas_idx]\n",
    "for i in kansas_similar:\n",
    "    similar_team = df.iloc[i]\n",
    "    print(f\"Similar Team: {similar_team['TeamID']}({similar_team['Season']}) with similarity: {avg_similarity[kansas_idx][i]}\")"
   ]
  }
 ],
 "metadata": {
  "kernelspec": {
   "display_name": "nlu",
   "language": "python",
   "name": "python3"
  },
  "language_info": {
   "codemirror_mode": {
    "name": "ipython",
    "version": 3
   },
   "file_extension": ".py",
   "mimetype": "text/x-python",
   "name": "python",
   "nbconvert_exporter": "python",
   "pygments_lexer": "ipython3",
   "version": "3.9.10"
  }
 },
 "nbformat": 4,
 "nbformat_minor": 2
}
