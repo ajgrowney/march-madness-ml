{
 "cells": [
  {
   "cell_type": "code",
   "execution_count": 1,
   "metadata": {},
   "outputs": [],
   "source": [
    "import pandas as pd"
   ]
  },
  {
   "cell_type": "code",
   "execution_count": 5,
   "metadata": {},
   "outputs": [],
   "source": [
    "TORVIK_DATA_ROOT = \"/users/andrewgrowney/Data/torvik\""
   ]
  },
  {
   "cell_type": "code",
   "execution_count": 7,
   "metadata": {},
   "outputs": [],
   "source": [
    "ADV_STATS_HEADERS = []\n",
    "with open(f\"{TORVIK_DATA_ROOT}/player_advstats/headers.txt\") as f:\n",
    "    ADV_STATS_HEADERS = f.read().splitlines()"
   ]
  },
  {
   "cell_type": "code",
   "execution_count": 11,
   "metadata": {},
   "outputs": [
    {
     "data": {
      "text/plain": [
       "64"
      ]
     },
     "execution_count": 11,
     "metadata": {},
     "output_type": "execute_result"
    }
   ],
   "source": [
    "len(ADV_STATS_HEADERS)"
   ]
  },
  {
   "cell_type": "code",
   "execution_count": 16,
   "metadata": {},
   "outputs": [
    {
     "data": {
      "text/plain": [
       "66"
      ]
     },
     "execution_count": 16,
     "metadata": {},
     "output_type": "execute_result"
    }
   ],
   "source": [
    "df = pd.read_csv(f\"{TORVIK_DATA_ROOT}/player_advstats/2017.csv\", header=None)\n",
    "len(df.columns)"
   ]
  },
  {
   "cell_type": "code",
   "execution_count": 23,
   "metadata": {},
   "outputs": [
    {
     "name": "stdout",
     "output_type": "stream",
     "text": [
      "0 player_name Raemond Robinson\n",
      "1 team Charleston Southern\n",
      "2 conf BSth\n",
      "3 GP 28\n",
      "4 Min_per 46.7\n",
      "5 ORtg 105.7\n",
      "6 usg 14.6\n",
      "7 eFG 50.0\n",
      "8 TS_per 51.14\n",
      "9 ORB_per 0.6\n",
      "10 DRB_per 12.7\n",
      "11 AST_per 10.9\n",
      "12 TO_per 11.9\n",
      "13 FTM 10\n",
      "14 FTA 14\n",
      "15 FT_per 0.714\n",
      "16 twoPM 1\n",
      "17 twoPA 10\n",
      "18 twoP_per 0.1\n",
      "19 TPM 46\n",
      "20 TPA 130\n",
      "21 TP_per 0.354\n",
      "22 blk_per 0.4\n",
      "23 stl_per 1.3\n",
      "24 ftr 10.0\n",
      "25 yr Sr\n",
      "26 ht 6-2\n",
      "27 num 0.0\n",
      "28 porpag 0.47969\n",
      "29 adjoe 95.1924\n",
      "30 pfr 3.9\n",
      "31 year 2017\n",
      "32 pid 27699\n",
      "33 type Goose Creek, SC\n",
      "34 Rec Rank 73.8\n",
      "35 ast/tov 1.74984489\n",
      "36 rimmade 1.0\n",
      "37 rimmade+rimmiss 5.0\n",
      "38 midmade 0.0\n",
      "39 midmade+midmiss 5.0\n",
      "40 rimmade/(rimmade+rimmiss) 0.2\n",
      "41 midmade/(midmade+midmiss) 0.0\n",
      "42 dunksmade 0.0\n",
      "43 dunksmiss+dunksmade 0.0\n",
      "44 dunksmade/(dunksmade+dunksmiss) nan\n",
      "45 pick nan\n",
      "46 drtg 113.305\n",
      "47 adrtg 117.671\n",
      "48 dporpag 0.785598\n",
      "49 stops 82.9917\n",
      "50 bpm -2.46383\n",
      "51 obpm 0.963275\n",
      "52 dbpm -3.42711\n",
      "53 gbpm -2.67418\n",
      "54 mp 18.6129\n",
      "55 ogbpm -0.433935\n",
      "56 dgbpm -2.24025\n",
      "57 oreb 0.0968\n",
      "58 dreb 1.8387\n",
      "59 treb 1.9355\n",
      "60 ast 1.129\n",
      "61 stl 0.4839\n",
      "62 blk 0.0645\n",
      "63 pts 5.6774\n"
     ]
    }
   ],
   "source": [
    "for i, col in enumerate(ADV_STATS_HEADERS):\n",
    "    print(i, ADV_STATS_HEADERS[i], df.iloc[100, i])"
   ]
  }
 ],
 "metadata": {
  "kernelspec": {
   "display_name": "nlu",
   "language": "python",
   "name": "python3"
  },
  "language_info": {
   "codemirror_mode": {
    "name": "ipython",
    "version": 3
   },
   "file_extension": ".py",
   "mimetype": "text/x-python",
   "name": "python",
   "nbconvert_exporter": "python",
   "pygments_lexer": "ipython3",
   "version": "3.9.10"
  }
 },
 "nbformat": 4,
 "nbformat_minor": 2
}
