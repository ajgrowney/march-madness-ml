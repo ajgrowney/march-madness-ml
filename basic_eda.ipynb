{
 "cells": [
  {
   "cell_type": "markdown",
   "metadata": {},
   "source": [
    "# Basic Exploratory Data Analysis\n",
    "## Prerequisites\n",
    "- Install Python 3\n",
    "\n"
   ]
  },
  {
   "cell_type": "code",
   "execution_count": 1,
   "metadata": {},
   "outputs": [
    {
     "name": "stdout",
     "output_type": "stream",
     "text": [
      "['MNCAATourneyDetailedResults.csv', 'MNCAATourneyCompactResults.csv', 'MSeasons.csv', 'MRegularSeasonDetailedResults.csv', 'MNCAATourneySlots.csv', 'MGameCities.csv', 'MConferenceTourneyGames.csv', 'Cities.csv', 'MRegularSeasonCompactResults.csv', 'MNCAATourneySeedRoundSlots.csv', 'MSampleSubmissionStage1.csv', 'MTeamConferences.csv', 'MTeamCoaches.csv', 'MMasseyOrdinals.csv', 'Conferences.csv', 'MTeams.csv', 'MNCAATourneySeeds.csv', 'MSecondaryTourneyTeams.csv', 'MTeamSpellings.csv', 'MSecondaryTourneyCompactResults.csv']\n"
     ]
    }
   ],
   "source": [
    "import os\n",
    "import pandas as pd\n",
    "\n",
    "# Load Data\n",
    "DATA_FOLDER = \"/Users/andrewgrowney/Data/kaggle/marchmadness-2022/stage_1\"\n",
    "print(os.listdir(DATA_FOLDER))"
   ]
  },
  {
   "cell_type": "markdown",
   "metadata": {},
   "source": [
    "## Basic Team Exploration"
   ]
  },
  {
   "cell_type": "code",
   "execution_count": 3,
   "metadata": {},
   "outputs": [
    {
     "name": "stdout",
     "output_type": "stream",
     "text": [
      "Index(['TeamID', 'TeamName', 'FirstD1Season', 'LastD1Season'], dtype='object')\n",
      "     TeamID TeamName  FirstD1Season  LastD1Season\n",
      "141    1242   Kansas           1985          2022\n",
      "1242\n",
      "Index(['Season', 'DayNum', 'WTeamID', 'WScore', 'LTeamID', 'LScore', 'WLoc',\n",
      "       'NumOT', 'WFGM', 'WFGA', 'WFGM3', 'WFGA3', 'WFTM', 'WFTA', 'WOR', 'WDR',\n",
      "       'WAst', 'WTO', 'WStl', 'WBlk', 'WPF', 'LFGM', 'LFGA', 'LFGM3', 'LFGA3',\n",
      "       'LFTM', 'LFTA', 'LOR', 'LDR', 'LAst', 'LTO', 'LStl', 'LBlk', 'LPF'],\n",
      "      dtype='object')\n",
      "       DayNum                               ...    LPF                   \n",
      "        count        mean       std    min  ...    25%   50%    75%   max\n",
      "Season                                      ...                          \n",
      "2003      6.0  144.666667  7.257180  136.0  ...  16.25  17.0  17.75  21.0\n",
      "2004      4.0  141.500000  4.203173  137.0  ...  23.25  25.5  26.25  27.0\n",
      "2005      1.0  137.000000       NaN  137.0  ...  15.00  15.0  15.00  15.0\n",
      "2006      1.0  137.000000       NaN  137.0  ...  25.00  25.0  25.00  25.0\n",
      "2007      4.0  141.000000  3.651484  137.0  ...  18.50  20.0  21.25  22.0\n",
      "2008      6.0  145.000000  7.238784  136.0  ...  15.50  17.0  17.75  20.0\n",
      "2009      3.0  140.000000  3.605551  137.0  ...  19.00  21.0  22.00  23.0\n",
      "2010      2.0  137.000000  1.414214  136.0  ...  16.75  17.5  18.25  19.0\n",
      "2011      4.0  141.500000  4.203173  137.0  ...  14.50  17.0  18.50  20.0\n",
      "2012      6.0  145.333333  6.801961  137.0  ...  16.25  17.0  17.00  21.0\n",
      "2013      3.0  140.000000  3.605551  137.0  ...  18.50  20.0  22.00  24.0\n",
      "2014      2.0  138.000000  1.414214  137.0  ...  21.25  21.5  21.75  22.0\n",
      "2015      2.0  138.000000  1.414214  137.0  ...  17.00  19.0  21.00  23.0\n",
      "2016      4.0  140.500000  4.203173  136.0  ...  19.00  21.0  23.00  23.0\n",
      "2017      4.0  141.000000  3.651484  137.0  ...  13.75  16.0  18.25  19.0\n",
      "2018      5.0  143.200000  6.418723  136.0  ...  13.00  16.0  18.00  24.0\n",
      "2019      2.0  137.000000  1.414214  136.0  ...  13.25  14.5  15.75  17.0\n",
      "2021      2.0  139.000000  1.414214  138.0  ...  17.00  17.0  17.00  17.0\n",
      "\n",
      "[18 rows x 256 columns]\n"
     ]
    }
   ],
   "source": [
    "team_info_file = os.path.join(DATA_FOLDER, \"MTeams.csv\")\n",
    "regular_season_results_path = os.path.join(DATA_FOLDER, \"MRegularSeasonDetailedResults.csv\")\n",
    "tournament_results_path = os.path.join(DATA_FOLDER, \"MNCAATourneyDetailedResults.csv\")\n",
    "\n",
    "team_info_dataframe = pd.read_csv(team_info_file)\n",
    "\n",
    "# Using our Team Info File to explore a team\n",
    "print(team_info_dataframe.columns)\n",
    "find_team_name = \"Kansas\"\n",
    "team = team_info_dataframe.loc[team_info_dataframe[\"TeamName\"] == find_team_name]\n",
    "print(team)\n",
    "\n",
    "team_id = int(team['TeamID'])\n",
    "print(team_id)\n",
    "\n",
    "# Looking at a team's regular season \n",
    "regular_season_results = pd.read_csv(regular_season_results_path)\n",
    "tournament_results = pd.read_csv(tournament_results_path)\n",
    "\n",
    "# See that we have WTeamID and LTeamID\n",
    "print(tournament_results.columns)\n",
    "\n",
    "team_played_filter = (regular_season_results['WTeamID'] == team_id) | (regular_season_results['LTeamID'] == team_id)\n",
    "team_regular_season = regular_season_results.loc[team_played_filter]\n",
    "# print(team_regular_season.groupby([\"Season\"]).describe())\n",
    "team_tourney_filter = (tournament_results['WTeamID'] == team_id) | (tournament_results['LTeamID'] == team_id)\n",
    "team_tourney = tournament_results.loc[team_tourney_filter]\n",
    "print(team_tourney.groupby([\"Season\"]).describe())\n"
   ]
  }
 ],
 "metadata": {
  "interpreter": {
   "hash": "f1eb1f72acb35a2b66ea7bcc928bfca7adfcd47a0046ff8346ac7d30f7df6d86"
  },
  "kernelspec": {
   "display_name": "Python 3.9.2 64-bit ('3.9.2': pyenv)",
   "language": "python",
   "name": "python3"
  },
  "language_info": {
   "codemirror_mode": {
    "name": "ipython",
    "version": 3
   },
   "file_extension": ".py",
   "mimetype": "text/x-python",
   "name": "python",
   "nbconvert_exporter": "python",
   "pygments_lexer": "ipython3",
   "version": "3.9.2"
  },
  "orig_nbformat": 4
 },
 "nbformat": 4,
 "nbformat_minor": 2
}
